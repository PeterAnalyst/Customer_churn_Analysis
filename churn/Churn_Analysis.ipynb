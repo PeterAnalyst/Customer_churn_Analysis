{
 "cells": [
  {
   "cell_type": "markdown",
   "id": "ba61af42-20a8-4ac3-af74-e239cc7b20b4",
   "metadata": {},
   "source": [
    "# 📊 Customer Churn Analysis/Prediction – End-to-End Analysis\r\n",
    "\r\n",
    "This notebook explores customer churn patterns using Python. It includes segmentation by demographics, monthly charges, and other variableto understandnd churn behavior. Visualizations are created using matplotlib and Plotlyn.\n",
    "## 🔍 Objective\n",
    "\n",
    "To understand the key drivers of customer churn (thereby identifying customers at risk of leaving and highlighting actionable insights to improve retention in a telecommunications company) using data analysis and visualization.\n",
    "\n",
    "## Dataset\n",
    "- **Source**: Kaggle Telco Customer Churn dataset **[here](https://www.kaggle.com/datasets/blastchar/telco-customer-churn/data])** \n",
    "- **Size**: 7,043 rows × 21 columns  \n",
    "- **Target**: `Churn` (Yes/No)\n",
    "\n",
    "## Approach\n",
    "1. Data exploration and cleaning  \n",
    "2. Feature engineering  \n",
    "3. Predictive modeling with Decision Tree  \n",
    "4. Performance evaluation and business insights  \n",
    "\n",
    "### Tools Used: \n",
    "* Python\n",
    "* pandas\n",
    "* matplotlib\n",
    "* seaborn\n",
    "* plotly\n",
    "* scikit-learn\n",
    "\n",
    "## Key Results\n",
    "\n",
    "- Accuracy: **77%****\n",
    "- Top churn drivers: `Contract`, `OnlineSecurity`, `Tenure`, `MonthlyCharges`\n",
    "**"
   ]
  },
  {
   "cell_type": "code",
   "execution_count": null,
   "id": "c1260183-de13-46b9-998e-37aad49ce671",
   "metadata": {},
   "outputs": [],
   "source": [
    "import numpy as np\n",
    "import pandas as pd\n",
    "import matplotlib.pyplot as plt\n",
    "import seaborn as sns\n",
    "import plotly.express as px"
   ]
  },
  {
   "cell_type": "code",
   "execution_count": null,
   "id": "85fb06e7-bb71-4e97-bcf5-e0a1c3cdd3a3",
   "metadata": {},
   "outputs": [],
   "source": [
    "# Load dataset and inspect its structure\n",
    "# Kaggle Telco Customer Churn dataset is used here\n",
    "\n",
    "\n",
    "churn_data = pd.read_excel(\"Telco_Customer_Churn.xlsx\")\n",
    "pd.set_option('display.max_columns', 50)\n",
    "churn_data.head()"
   ]
  },
  {
   "cell_type": "markdown",
   "id": "ac6516d7-2579-401b-b327-f23bdb251f7e",
   "metadata": {},
   "source": [
    "# Understanding the data"
   ]
  },
  {
   "cell_type": "markdown",
   "id": "d48b7b06-16a8-4166-8b45-7f7386e0dd87",
   "metadata": {},
   "source": [
    "## About the Data"
   ]
  },
  {
   "cell_type": "markdown",
   "id": "3f2ea228-79a9-46b5-be04-3992ee37a10d",
   "metadata": {},
   "source": [
    "* CustomerID: A unique ID that identifies each customer.\n",
    "* Count: A value used in reporting/dashbo* Multiple Lines: Indicates if the customer subscribes to multiple telephone lines with the company: Yes, No\n",
    "* Internet Service: Indicates if the customer subscribes to Internet service with the company: No, DSL, Fiber Optic, Cable.\n",
    "* Avg Monthly GB Download: Indicates the customer’s average download volume in gigabytes, calculated to the end of the quarter specified above.\n",
    "* Online Security: Indicates if the customer subscribes to an additional online security service provided by the company: Yes, No\n",
    "* Online Backup: Indicates if the customer subscribes to an additional online backup service provided by the company: Yes, No\n",
    "* Device Protection Plan: Indicates if the customer subscribes to an additional device protection plan for their Internet equipment provided by the company: Yes, No\n",
    "* Streaming TV: Indicates if the customer uses their Internet service to stream television programing from a third party provider: Yes, No. The company does not charge an additional fee for this service.\n",
    "* Streaming Movies: Indicates if the customer uses their Internet service to stream movies from a third party provider: Yes, No. The company does not charge an additional fee for this service.\n",
    "* Contract: Indicates the customer’s current contract type: Month-to-Month, One Year, Two Year.\n",
    "* Paperless Billing: Indicates if the customer has chosen paperless billing: Yes, No\n",
    "* Payment Method: Indicates how the customer pays their bill: Bank Withdrawal, Credit Card, Mailed Check\n",
    "* Monthly Charge: Indicates the customer’s current total monthly charge for all their services from the company.\n",
    "* Total Charges: Indicates the customer’s total charges, calculated to the end of the quarter specified above.\n",
    "* Churn Label: Yes = the customer left the company this quarter. No = the customer remained with the company. Directly related to Churn Value.\n",
    "* Churn Value: 1 = the customer left the company this quarter. 0 = the customer remained with the company. Directly related to Churn Label.\n",
    "* Churn Score: A value from 0-100 that is calculated using the predictive tool IBM SPSS Modeler. The model incorporates multiple factors known to cause churn. The higher the score, the more likely the customer will churn.\n",
    "* CLTV: Customer Lifetime Value. A predicted CLTV is calculated using corporate formulas and existing data. The higher the value, the more valuable the customer. High value customers should be monitored for churn.\n",
    "* Churn Reason: A customer’s specific reason for leaving the company. Directly related to Churn Category.arding to sum up the number of customers in a filtered set.\n",
    "* Country: The country of the customer’s primary residence.\n",
    "* State: The state of the customer’s primary residence.\n",
    "* City: The city of the customer’s primary residence.\n",
    "* Zip Code: The zip code of the customer’s primary residence.\n",
    "* Lat Long: The combined latitude and longitude of the customer’s primary residence.\n",
    "* Latitude: The latitude of the customer’s primary residence.\n",
    "* Longitude: The longitude of the customer’s primary residence.\n",
    "* Tenure in Months: Indicates the total amount of months that the customer has been with the company by the end of the quarter specified above.\n",
    "* Phone Service: Indicates if the customer subscribes to home phone service with the company: Yes, No\n",
    "* Partner: represents whether the customer has a spouse or partner living in the same household: Yes, No\n"
   ]
  },
  {
   "cell_type": "code",
   "execution_count": null,
   "id": "a2bf39dd-bbaf-43b7-bb3b-a997cc767f4c",
   "metadata": {},
   "outputs": [],
   "source": [
    "churn_data.describe()"
   ]
  },
  {
   "cell_type": "code",
   "execution_count": null,
   "id": "1ab91cb8-2d61-4957-a87b-22fdb40bb194",
   "metadata": {},
   "outputs": [],
   "source": [
    "churn_data.shape"
   ]
  },
  {
   "cell_type": "code",
   "execution_count": null,
   "id": "a9c9a8ab-80f8-4a75-b02c-ba141e2fc176",
   "metadata": {},
   "outputs": [],
   "source": [
    "churn_data.info()"
   ]
  },
  {
   "cell_type": "code",
   "execution_count": null,
   "id": "176ea2f0-993a-4931-a951-a2a03760d916",
   "metadata": {},
   "outputs": [],
   "source": [
    "# Convert 'Total Charges' to numeric and coerce errors to NaN for cleaning\n",
    "\n",
    "churn_data['Total Charges'] = pd.to_numeric(churn_data['Total Charges'], errors='coerce')\n"
   ]
  },
  {
   "cell_type": "code",
   "execution_count": null,
   "id": "f9bf0b45-8586-48c6-a283-e4ff4b769b99",
   "metadata": {
    "scrolled": true
   },
   "outputs": [],
   "source": [
    "churn_data.info()"
   ]
  },
  {
   "cell_type": "code",
   "execution_count": null,
   "id": "f58caeef-3d4d-4697-8ee2-5584808acf98",
   "metadata": {},
   "outputs": [],
   "source": [
    "churn_data.isnull().sum()"
   ]
  },
  {
   "cell_type": "code",
   "execution_count": null,
   "id": "9a53d906-1c6a-4dd7-a7f9-b1088e634e68",
   "metadata": {
    "scrolled": true
   },
   "outputs": [],
   "source": [
    "# Data cleaning\n",
    "\n",
    "churn_data = churn_data.drop('Lat Long', axis = 1)\n",
    "churn_data['Zip Code'] = churn_data['Zip Code'].astype(str)\n",
    "churn_data.columns = churn_data.columns.str.lower().str.strip().str.replace(' ','_')\n",
    "churn_data"
   ]
  },
  {
   "cell_type": "code",
   "execution_count": null,
   "id": "82f02a90-cf65-42ba-a324-42ff4d7dd71c",
   "metadata": {},
   "outputs": [],
   "source": [
    "nan_col = churn_data.columns[churn_data.isnull().any()]\n",
    "for i in nan_col:\n",
    "    print(i, churn_data[i].isnull().sum())\n",
    "    \n",
    "churn_data[churn_data['total_charges'].isnull()]"
   ]
  },
  {
   "cell_type": "code",
   "execution_count": null,
   "id": "5824e76d-4ec1-446b-8ee4-db02781911ad",
   "metadata": {},
   "outputs": [],
   "source": [
    "new_data = churn_data.loc[churn_data['churn_value'] == 1,['churn_label','churn_reason','churn_value']]\n",
    "\n",
    "print(new_data['churn_value'].value_counts())\n",
    "print(new_data['churn_label'].value_counts())\n",
    "print(new_data['churn_reason'].value_counts())"
   ]
  },
  {
   "cell_type": "code",
   "execution_count": null,
   "id": "e6f06533-9d24-4fcd-ade1-84f51386cd6c",
   "metadata": {},
   "outputs": [],
   "source": [
    "''' checking for minimum and maximum values for monthly charge to create segmentation\n",
    "'''\n",
    "\n",
    "print(f\"Minimum Monthly charge is {churn_data['monthly_charges'].min()}\")\n",
    "print(f\"Maximum Monthly charge is {churn_data['monthly_charges'].max()}\")"
   ]
  },
  {
   "cell_type": "code",
   "execution_count": null,
   "id": "a7181d56-afe0-4310-a145-5f4118b099ed",
   "metadata": {},
   "outputs": [],
   "source": [
    "''' checking for minimum and maximum values for total charge to create segmentation\n",
    "'''\n",
    "\n",
    "print(f\"Maximum Total charge is {churn_data['total_charges'].max()}\")\n",
    "print(f\"Minimum Total charge is {churn_data['total_charges'].min()}\")"
   ]
  },
  {
   "cell_type": "code",
   "execution_count": null,
   "id": "2fc7f24b-ded1-4365-a259-83a353cc112d",
   "metadata": {},
   "outputs": [],
   "source": [
    "churn_data['monthly_charges_segmentation'] = (np.where(churn_data['monthly_charges']< 40,\n",
    "                                                       'low:under 40',\n",
    "                                                       np.where((churn_data['monthly_charges']>= 40) & (churn_data['monthly_charges'] <=70),\n",
    "                                                                'mid:40 -70',\n",
    "                                                                np.where((churn_data['monthly_charges']> 70) & (churn_data['monthly_charges'] <=100),\n",
    "                                                                         'high: 71-100','very high: over 100'\n",
    "                                                                        )\n",
    "                                                               )\n",
    "                                                      )\n",
    "                                             )\n",
    "\n",
    "churn_data['total_charges_segmentation'] = (np.where(churn_data['total_charges']< 2000,\n",
    "                                                       'Low_spenders:<2000',\n",
    "                                                       np.where((churn_data['total_charges']>= 2000) & (churn_data['total_charges'] <=4000),\n",
    "                                                                'Lower_mid: 2000-4000',\n",
    "                                                                np.where((churn_data['total_charges']> 4000) & (churn_data['total_charges'] <=6000),\n",
    "                                                                        'Upper_mid: 4001-6000','High_spenders: 60001+')\n",
    "                                                                        \n",
    "                                                               )\n",
    "                                                               \n",
    "                                                    )\n",
    "                                                )"
   ]
  },
  {
   "cell_type": "code",
   "execution_count": null,
   "id": "cd2f8b50-3f94-43c8-986a-48e271549fe0",
   "metadata": {},
   "outputs": [],
   "source": [
    "no_of_churned = churn_data[churn_data['churn_label']=='Yes'][['monthly_charges_segmentation','total_charges_segmentation','churn_label']].value_counts().sum()\n",
    "no_of_not_churned = churn_data[churn_data['churn_label']=='No'][['monthly_charges_segmentation','total_charges_segmentation','churn_label']].value_counts().sum()\n",
    "\n",
    "print (f'total number of churned is {no_of_churned}')\n",
    "print (f'total number of not churned is {no_of_not_churned}')"
   ]
  },
  {
   "cell_type": "code",
   "execution_count": null,
   "id": "940159fd-1c16-44ac-aebb-2907363bfcac",
   "metadata": {},
   "outputs": [],
   "source": [
    "churn_data"
   ]
  },
  {
   "cell_type": "code",
   "execution_count": null,
   "id": "70ee0eb9-5c5e-4f66-81cd-d53655c9ee70",
   "metadata": {},
   "outputs": [],
   "source": [
    "churn_data.columns"
   ]
  },
  {
   "cell_type": "code",
   "execution_count": null,
   "id": "9e95d83d-7bfc-4433-8db6-3ea9e67f9455",
   "metadata": {},
   "outputs": [],
   "source": [
    "churn_data['churn_label'].value_counts()"
   ]
  },
  {
   "cell_type": "code",
   "execution_count": null,
   "id": "0fd9d116-5bbb-41a7-805d-a79c8bb8d7ec",
   "metadata": {},
   "outputs": [],
   "source": [
    "churn_rate = churn_data['churn_label'].value_counts(normalize=True) * 100\n",
    "print(churn_rate)"
   ]
  },
  {
   "cell_type": "markdown",
   "id": "feb354fc-c518-4d8c-aa43-9a889f84e361",
   "metadata": {},
   "source": [
    "# Churn by Contract Type\n",
    "### Churn Percentage by Contract Type\n",
    "* People on month-to-month contracts are far more likely to churn.\n",
    "* Longer contracts have lower churn rates, which might guide business strategy (e.g., offer incentives for annual plans)."
   ]
  },
  {
   "cell_type": "code",
   "execution_count": null,
   "id": "33b7eb8a-e7f1-4c31-8862-8ee362d1ca4d",
   "metadata": {},
   "outputs": [],
   "source": [
    "churn_data.groupby('contract')['churn_label'].value_counts(normalize=True)\n"
   ]
  },
  {
   "cell_type": "code",
   "execution_count": null,
   "id": "fc4b78c2-f95c-4422-9603-ba30247fcbbf",
   "metadata": {},
   "outputs": [],
   "source": [
    "churn_by_contract = (churn_data.groupby('contract')['churn_label']\n",
    "                                .value_counts(normalize=True)\n",
    "                                .unstack(fill_value=0) * 100\n",
    "                    )\n",
    "\n",
    "churn_by_contract"
   ]
  },
  {
   "cell_type": "code",
   "execution_count": null,
   "id": "4d20b764-e668-4ffb-b8fc-eae95abc5b50",
   "metadata": {},
   "outputs": [],
   "source": [
    "churn_by_contract.plot(kind='bar', stacked=True, figsize=(8, 5))\n",
    "\n",
    "plt.title('Churn Percentage by Contract Type')\n",
    "plt.xlabel('Contract Type')\n",
    "plt.ylabel('Percentage')\n",
    "plt.legend(title='Churn', bbox_to_anchor=(1.15,1),loc='upper right')\n",
    "plt.grid(axis='y', linestyle='--', alpha=0.7)\n",
    "plt.tight_layout()\n",
    "plt.show()\n"
   ]
  },
  {
   "cell_type": "code",
   "execution_count": null,
   "id": "6e996b9c-01f6-4318-b878-8c1984e84874",
   "metadata": {},
   "outputs": [],
   "source": [
    "# Plotting contract type of customers who have churned \n",
    "fig, ax = plt.subplots()\n",
    "\n",
    "ax.pie(x=churn_by_contract['Yes'],\n",
    "       startangle=90,\n",
    "       labels=[\"Month-to-month\", \"One year \",\"Two year\" ],\n",
    "       autopct=\"%.0f.%%\",\n",
    "       #explode = (0.09, 0, 0) # THIS MAKES THE SELCTED PIE SEPERATE ITSELF\n",
    "      )\n",
    "\n",
    "ax.set_title(\"Churn by contract type\")"
   ]
  },
  {
   "cell_type": "markdown",
   "id": "0670819a-f6b5-4872-9dce-a8eb8530cc1f",
   "metadata": {},
   "source": [
    "**Insight:** \n",
    "Customers with month-to-month contracts have the highest churn rate, confirming contract type is a strong predictor.\n"
   ]
  },
  {
   "cell_type": "markdown",
   "id": "c70fe685-c7c6-4eba-8c17-7b12c3544b65",
   "metadata": {},
   "source": [
    "       ."
   ]
  },
  {
   "cell_type": "markdown",
   "id": "29e51f8d-215c-4b81-908b-18ac326a4e06",
   "metadata": {},
   "source": [
    "# Churn by Monthly/Total Charges"
   ]
  },
  {
   "cell_type": "code",
   "execution_count": null,
   "id": "e6b0485a-4fa4-4cbc-89ef-79741846cc46",
   "metadata": {},
   "outputs": [],
   "source": [
    "churn_by_charges_segmentation_normalize = (churn_data.groupby('monthly_charges_segmentation')['churn_label']\n",
    "                                           .value_counts(normalize=True)\n",
    "                                           .unstack(fill_value=0)*100)\n",
    "\n",
    "churn_by_charges_segmentation_normalize\n",
    "\n",
    "churn_by_charges_segmentation_normalize.plot(kind='bar', stacked=True, figsize=(8, 5))\n",
    "\n",
    "plt.title('churn by monthly charge segmentation(in Percentages)')\n",
    "plt.xlabel('charges_segmentation')\n",
    "plt.ylabel('Percentage')\n",
    "plt.legend(title='Churn', bbox_to_anchor=(1.15,1),loc='upper right')\n",
    "plt.grid(axis='y', linestyle='--', alpha=0.7)\n",
    "plt.tight_layout()\n",
    "plt.show()"
   ]
  },
  {
   "cell_type": "code",
   "execution_count": null,
   "id": "4fe691d4-468d-44a3-a565-da9e5d7ac69c",
   "metadata": {},
   "outputs": [],
   "source": [
    "churn_by_charges_segmentation_normalize = (churn_data.groupby('total_charges_segmentation')['churn_label']\n",
    "                                           .value_counts(normalize=True)\n",
    "                                           .unstack(fill_value=0)*100)\n",
    "\n",
    "churn_by_charges_segmentation_normalize\n",
    "\n",
    "churn_by_charges_segmentation_normalize.plot(kind='bar', stacked=True, figsize=(8, 5))\n",
    "\n",
    "plt.title('churn by total charge segmentation(in Percentages)')\n",
    "plt.xlabel('charges_segmentation')\n",
    "plt.ylabel('Percentage')\n",
    "plt.legend(title='Churn', bbox_to_anchor=(1.15,1),loc='upper right')\n",
    "plt.grid(axis='y', linestyle='--', alpha=0.7)\n",
    "plt.tight_layout()\n",
    "plt.show()"
   ]
  },
  {
   "cell_type": "code",
   "execution_count": null,
   "id": "1c0dd247-237c-449d-9ad1-d44120c25510",
   "metadata": {},
   "outputs": [],
   "source": [
    "churn_by_total_charges_segmentation = (churn_data.groupby('total_charges_segmentation')['churn_label']\n",
    "                                           .value_counts()\n",
    "                                           .unstack(fill_value=0)\n",
    "                                      )\n",
    "\n",
    "churn_by_total_charges_segmentation"
   ]
  },
  {
   "cell_type": "code",
   "execution_count": null,
   "id": "000408bc-b590-4575-abed-09c2441d5445",
   "metadata": {},
   "outputs": [],
   "source": [
    "churn_by_total_charges_segmentation.plot(kind='bar', figsize=(8, 5))\n",
    "\n",
    "plt.title('churn by charge segmentation')\n",
    "plt.xlabel('charges_segmentation')\n",
    "plt.ylabel('churn count')\n",
    "plt.legend(title='Churn', bbox_to_anchor=(1.15,1), loc='upper right')\n",
    "plt.grid(axis='y', linestyle='--', alpha=0.7)\n",
    "plt.tight_layout()\n",
    "plt.show()"
   ]
  },
  {
   "cell_type": "markdown",
   "id": "f9138757-425a-4331-b627-8e35dfee7f55",
   "metadata": {},
   "source": [
    "# CHURN BY TENURE MONTHS"
   ]
  },
  {
   "cell_type": "code",
   "execution_count": null,
   "id": "e46dfe6b-9ec0-47a9-85fb-8ffdb09b76b3",
   "metadata": {},
   "outputs": [],
   "source": [
    "# Group by tenure_months and calculate churn rate\n",
    "churn_by_tenure_avg = churn_data.groupby('tenure_months')['churn_value'].mean()\n",
    "\n",
    "# Plot it\n",
    "plt.figure(figsize=(10, 6))\n",
    "plt.plot(churn_by_tenure_avg.index, churn_by_tenure_avg.values, marker='o')\n",
    "plt.title('Churn Rate by Tenure (Months)')\n",
    "plt.xlabel('Tenure (Months)')\n",
    "plt.ylabel('Churn Rate')\n",
    "plt.grid(True)\n",
    "plt.tight_layout()\n",
    "plt.show()\n"
   ]
  },
  {
   "cell_type": "code",
   "execution_count": null,
   "id": "8d938bc2-cdef-47aa-a58e-57ec6c4c5886",
   "metadata": {},
   "outputs": [],
   "source": [
    "churn_by_tenure = churn_data.groupby('tenure_months')['churn_value'].value_counts().reset_index(name='churn_value_counts')\n",
    "#churn_by_tenure.columns = ['tenure_months', 'churn_value_counts']\n",
    "churn_by_tenure"
   ]
  },
  {
   "cell_type": "code",
   "execution_count": null,
   "id": "7189f0b5-8d8a-42f7-b09e-d2170ef7ccc5",
   "metadata": {},
   "outputs": [],
   "source": [
    "pivot_churn = churn_by_tenure.pivot(index='tenure_months', columns='churn_value', values='churn_value_counts')\n",
    "pivot_churn.columns = ['No Churn', 'Churn']\n",
    "pivot_churn.plot(kind='line', figsize=(10,6), title='Churn vs No Churn Over Tenure')"
   ]
  },
  {
   "cell_type": "markdown",
   "id": "07b9902c-a22a-4776-9029-36b1716b3748",
   "metadata": {},
   "source": [
    "##### As tenure increases, the tendency to churn reduces"
   ]
  },
  {
   "cell_type": "markdown",
   "id": "56c0393c-6a59-49e6-b241-6c1f1ab65d3f",
   "metadata": {},
   "source": [
    "      ."
   ]
  },
  {
   "cell_type": "code",
   "execution_count": null,
   "id": "deea7a79-6c4c-4a4b-a486-b654d9bdee3a",
   "metadata": {},
   "outputs": [],
   "source": [
    "pivot_churn['Churn_rate'] = (pivot_churn['Churn']/(pivot_churn['Churn']+pivot_churn['No Churn']))*100\n",
    "pivot_churn['total'] = pivot_churn['Churn'] + pivot_churn['No Churn']\n",
    "pivot_churn=pivot_churn.fillna(0)\n",
    "pivot_churn"
   ]
  },
  {
   "cell_type": "code",
   "execution_count": null,
   "id": "1c0672a5-b746-4d8b-b06c-01c2cbd83c4c",
   "metadata": {},
   "outputs": [],
   "source": [
    "fig, ax = plt.subplots()\n",
    "\n",
    "ax.plot(pivot_churn.index, pivot_churn[\"Churn_rate\"],\n",
    "       label=\"Churn_rate\",\n",
    "       c = \"blue\")\n",
    "ax.set_ylim(0, 100)\n",
    "ax.set_xlabel(\"Tenure\")  # X-axis label\n",
    "ax.set_ylabel(\"Churn Rate (%)\")  # Left Y-axis label\n",
    "\n",
    "ax2 = ax.twinx()\n",
    "\n",
    "ax2.plot(pivot_churn.index, pivot_churn[\"total\"],\n",
    "        label=\"Count\",\n",
    "        c=\"orange\")\n",
    "\n",
    "ax2.set_ylim(0, pivot_churn[\"total\"].max())\n",
    "ax2.set_ylabel(\"Customer Count\") # Right Y-axis label\n",
    "\n",
    "plt.title(\"Churn_rate vs Count in tenure\")\n",
    "fig.legend(bbox_to_anchor=(1.17,0.9),loc='upper right')\n",
    "plt.show()"
   ]
  },
  {
   "cell_type": "markdown",
   "id": "1a55d86c-f399-45dd-8618-c071c17d0dd1",
   "metadata": {},
   "source": [
    "From the above chat, it is obvious that the longer the tenure months, the smaller the churn rate becomes"
   ]
  },
  {
   "cell_type": "markdown",
   "id": "128f0480-dc0e-432e-9c83-8968693acbb8",
   "metadata": {},
   "source": [
    "    .   "
   ]
  },
  {
   "cell_type": "markdown",
   "id": "8fee8611-e8c0-427c-8a6b-0cb0f41da772",
   "metadata": {},
   "source": [
    "# Churn by City"
   ]
  },
  {
   "cell_type": "code",
   "execution_count": null,
   "id": "1d3f6004-3ac6-4771-ba4c-cbee6f69896a",
   "metadata": {},
   "outputs": [],
   "source": [
    "''' I am trying to first group by city and churn label, as the goal here is to \n",
    "1. Know the city with the highest churn\n",
    "2. Know the churn rate for each city\n",
    "'''\n",
    "city_churn = churn_data.groupby(['city','churn_label']).size().unstack(fill_value=0)\n",
    "city_churn['total'] = (city_churn['Yes']+city_churn['No'])\n",
    "city_churn['churn_rate(%)'] = ((city_churn['Yes']/(city_churn['Yes']+city_churn['No']))*100).round(2)\n",
    "city_churn"
   ]
  },
  {
   "cell_type": "code",
   "execution_count": null,
   "id": "fb926473",
   "metadata": {},
   "outputs": [],
   "source": [
    "city_churn_sorted = city_churn.sort_values(by=['total','churn_rate(%)'],ascending=False)\n",
    "(city_churn_sorted[['Yes']].sort_values(by=['Yes'], ascending=False)\n",
    "                           .head(10)\n",
    "                           .plot(kind='bar',\n",
    "                                 figsize=(8, 5),\n",
    "                                 legend=False,\n",
    "                                 title='Churn by City',\n",
    "                                 ylabel = 'Churn Count'\n",
    "                                )\n",
    ")"
   ]
  },
  {
   "cell_type": "markdown",
   "id": "5769cf87-8b22-4eb0-9c13-fa6c4ea2981c",
   "metadata": {},
   "source": [
    "### While it seems like The city **Los Angeles** has the highest churn number..."
   ]
  },
  {
   "cell_type": "code",
   "execution_count": null,
   "id": "9fc0c4ce-0d9b-4cc3-921a-627a8e5a1c69",
   "metadata": {},
   "outputs": [],
   "source": [
    "city_churn.sort_values(by=['total','churn_rate(%)'],ascending=False).head(10)"
   ]
  },
  {
   "cell_type": "code",
   "execution_count": null,
   "id": "155741b6-eab6-4ae2-b41c-899d4b827223",
   "metadata": {},
   "outputs": [],
   "source": [
    "\n",
    "# Add label column for display\n",
    "city_churn_sorted['label'] = city_churn_sorted['churn_rate(%)'].round(1).astype(str) + '%'\n",
    "\n",
    "# Color cities by churn rate > 25%\n",
    "city_churn_sorted['High Churn'] = city_churn_sorted['churn_rate(%)'] > 25\n",
    "\n",
    "# Plotly bar chart\n",
    "fig = px.bar(\n",
    "    city_churn_sorted.reset_index().head(10),\n",
    "    x='city',\n",
    "    y='churn_rate(%)',\n",
    "    color='High Churn',\n",
    "    color_discrete_map={True: 'red', False: 'green'},\n",
    "    text='label',  # This adds labels to bars\n",
    "    hover_data={\n",
    "        'churn_rate(%)': ':.2f',\n",
    "        'No': True,\n",
    "        'Yes': True,\n",
    "        'total': True,\n",
    "        'High Churn': False,  # Hide this in hover\n",
    "         'label': False  # Hide this in hover\n",
    "    },\n",
    "    labels={'city': 'City', 'churn_rate(%)': 'Churn Rate (%)'},\n",
    "    title='Interactive Churn Rate by City (Hover for Details)'\n",
    ")\n",
    "\n",
    "fig.update_layout(\n",
    "    width=800,\n",
    "    height=500,\n",
    "    xaxis_tickangle=270,\n",
    "     yaxis=dict(\n",
    "        title='',\n",
    "        showticklabels=False  #This hides the numbers on y-axis\n",
    "     ),\n",
    "    #showlegend=False\n",
    ")\n",
    "\n",
    "fig.show()"
   ]
  },
  {
   "cell_type": "markdown",
   "id": "ab048c54-ecd6-4303-8509-b904d5fa0c65",
   "metadata": {},
   "source": [
    "### ... it's (**Los Angeles**) churn rate is considerably lower than some other cities in the top 10. As evidenced in this diagram"
   ]
  },
  {
   "cell_type": "code",
   "execution_count": null,
   "id": "a247539c-2198-440c-aed3-ac4a9e30f16b",
   "metadata": {
    "scrolled": true
   },
   "outputs": [],
   "source": [
    "city_churn_sorted.reset_index().head(10)"
   ]
  },
  {
   "cell_type": "markdown",
   "id": "7fa4bc46-251d-419b-b825-84d2dd2dee6e",
   "metadata": {},
   "source": [
    "# Churn By GENDER"
   ]
  },
  {
   "cell_type": "code",
   "execution_count": null,
   "id": "f3273b2a-b014-45f9-8b01-d06c65931e38",
   "metadata": {},
   "outputs": [],
   "source": [
    "gender_churn = churn_data.groupby(['gender', 'churn_label']).size().unstack(fill_value=0)\n",
    "gender_churn['churn_rate(%)'] = (gender_churn['Yes']/(gender_churn['Yes']+gender_churn['No'])*100).round(2)\n",
    "gender_churn['total'] = (gender_churn['Yes']+gender_churn['No'])\n",
    "gender_churn"
   ]
  },
  {
   "cell_type": "code",
   "execution_count": null,
   "id": "fbf4dadf-a6ae-4a62-a112-89d68e8d741d",
   "metadata": {},
   "outputs": [],
   "source": [
    "gender_churn.reset_index()[['gender','churn_rate(%)']].rename_axis(None, axis=1)"
   ]
  },
  {
   "cell_type": "code",
   "execution_count": null,
   "id": "94e9d4cf-9724-4ff2-8239-848d24f43239",
   "metadata": {},
   "outputs": [],
   "source": [
    "# Create pie chart\n",
    "fig = px.pie(\n",
    "    gender_churn.reset_index()[['gender','churn_rate(%)']],\n",
    "    names='gender',\n",
    "    values='churn_rate(%)',\n",
    "    color='gender',\n",
    "    color_discrete_map={'Female': 'lightcoral', 'Male': 'skyblue'},\n",
    "    title='Overall Churn Distribution by gender',\n",
    "    hole=0.5  # Optional: makes it a donut chart\n",
    ")\n",
    "\n",
    "fig.update_traces(textinfo='percent+label')  # Show % and label inside pie\n",
    "fig.update_layout(\n",
    "    width=700,\n",
    "    height=500,\n",
    "    showlegend=False\n",
    ")\n",
    "\n",
    "fig.show()"
   ]
  },
  {
   "cell_type": "markdown",
   "id": "cdc88edd-2c79-4118-8457-88a711a54a33",
   "metadata": {},
   "source": [
    "### The female gender has a higher churn and churn rate when compared to the male gender"
   ]
  },
  {
   "cell_type": "markdown",
   "id": "97824eb4-2162-4e9f-a6c8-04ad5e95541e",
   "metadata": {},
   "source": [
    "# Churn By REASON"
   ]
  },
  {
   "cell_type": "code",
   "execution_count": null,
   "id": "4b673e89-9a15-447f-915c-6db7ceacac73",
   "metadata": {},
   "outputs": [],
   "source": [
    "churned_reason = churn_data[churn_data['churn_label']=='Yes'][\"churn_reason\"].value_counts()\n",
    "churned_reason = churned_reason.reset_index()\n",
    "churned_reason.index += 1\n",
    "churned_reason['% of total'] = ((churned_reason['count']/churned_reason['count'].sum())*100).round(2)\n",
    "churned_reason"
   ]
  },
  {
   "cell_type": "code",
   "execution_count": null,
   "id": "45b3a005-b7c2-4ea6-bcfe-1493f2ec9bfc",
   "metadata": {},
   "outputs": [],
   "source": [
    "# Plot\n",
    "fig = px.bar(\n",
    "    churned_reason.sort_values('count', ascending=True),\n",
    "    x='count',\n",
    "    y='churn_reason',\n",
    "    orientation='h',\n",
    "    title='Reasons for Customer Churn',\n",
    "    labels={'count': 'Number of Customers', 'churn_reason': 'Churn Reason'},\n",
    "    text= churned_reason['% of total'].sort_values().round(1).astype(str) + '%',\n",
    "    custom_data=[churned_reason.sort_values('count', ascending=True)['% of total']]  # Pass the percentage as custom data\n",
    ")\n",
    "\n",
    "# Custom hovertemplate\n",
    "fig.update_traces(\n",
    "    hovertemplate=(\n",
    "        'Churn Reason: %{y}<br>' +\n",
    "        'Number of Customers: %{x}<br>' +\n",
    "        'Percent of Total = %{customdata[0]:.1f}%<extra></extra>'\n",
    "    )\n",
    ")\n",
    "\n",
    "fig.update_layout(height=800,width=700)\n",
    "fig.show()"
   ]
  },
  {
   "cell_type": "markdown",
   "id": "7569441e-dc69-476b-b7e7-58a9886f71c7",
   "metadata": {},
   "source": [
    "#### We lost a lot of our customers also mainly because of\n",
    "* attitude of the support person\n",
    "* competitors offered both higher download speeds and more data and even made a better offer and better device\n",
    "  \n",
    "  - As a matter of fact **1/3 of our customers churned** was because of our competitors and what they are offering"
   ]
  },
  {
   "cell_type": "markdown",
   "id": "a1dcbe93-4965-49b8-93fd-2efb0dfed376",
   "metadata": {},
   "source": [
    "# Demographic Segmentation"
   ]
  },
  {
   "cell_type": "markdown",
   "id": "439e92a1-16da-4f80-910c-e59c921ae9f1",
   "metadata": {},
   "source": [
    "## Churn by Senoir citizen vs not Senior citizen"
   ]
  },
  {
   "cell_type": "code",
   "execution_count": null,
   "id": "89c03601-97c5-476f-a43d-a980a13a8f1e",
   "metadata": {},
   "outputs": [],
   "source": [
    "senior_citizen_churn = churn_data[churn_data['churn_label']=='Yes']['senior_citizen'].value_counts().reset_index()\n",
    "\n",
    "senior_citizen_churn.index += 1\n",
    "senior_citizen_churn"
   ]
  },
  {
   "cell_type": "code",
   "execution_count": null,
   "id": "8f4325de-a0ad-416f-9537-ef81e40c9dfb",
   "metadata": {},
   "outputs": [],
   "source": [
    "# Plot\n",
    "fig = px.bar(\n",
    "    senior_citizen_churn,\n",
    "    x='senior_citizen',\n",
    "    y='count',\n",
    "    title='Churn Count of Senior Citizen Status',\n",
    "    labels={'count': 'count', 'senior_citizen': 'senior_citizen'},\n",
    "    text='count'\n",
    ")\n",
    "\n",
    "fig.update_traces( textposition='outside')\n",
    "fig.update_layout(\n",
    "    height=900,\n",
    "    width=600,\n",
    "    yaxis_title='Number of Churned Customers',\n",
    "    xaxis_title='Senior Citizen Status'\n",
    ")\n",
    "\n",
    "fig.show()"
   ]
  },
  {
   "cell_type": "markdown",
   "id": "c0c2fe40-1660-4c82-9878-c8576ebb44e3",
   "metadata": {},
   "source": [
    "### Most of our churned customers are of the younger generation that's about over 75% of the total churn"
   ]
  },
  {
   "cell_type": "markdown",
   "id": "09a8361b-1b55-4fda-b264-8e33d45e6c9c",
   "metadata": {},
   "source": [
    "    ."
   ]
  },
  {
   "cell_type": "code",
   "execution_count": null,
   "id": "0d1818b2-b6a7-43bc-824d-345aa89719cd",
   "metadata": {
    "scrolled": true
   },
   "outputs": [],
   "source": [
    "senior = churn_data[churn_data['senior_citizen']=='Yes'] #Creating data frame for just senior citizens\n",
    "\n",
    "senior_reason_churned = (senior.groupby(['churn_reason','churn_label'])\n",
    "                               .size()\n",
    "                               .unstack(fill_value=0)\n",
    "                               .sort_values(by='Yes', ascending=False)\n",
    "                               .reset_index()\n",
    "                               .rename_axis(None, axis=1)\n",
    ")\n",
    "\n",
    "senior_reason_churned"
   ]
  },
  {
   "cell_type": "code",
   "execution_count": null,
   "id": "c1aa8776-cda2-4260-84e9-f5a4978f685b",
   "metadata": {
    "scrolled": true
   },
   "outputs": [],
   "source": [
    "snr=(churn_data.groupby(['senior_citizen','churn_reason','churn_label'])\n",
    "                               .size()\n",
    "                               .unstack(fill_value=0)\n",
    "                               .sort_values(by='Yes', ascending=False)\n",
    "                               .reset_index()\n",
    "                               .rename_axis(None, axis=1)\n",
    ")\n",
    "snr"
   ]
  },
  {
   "cell_type": "code",
   "execution_count": null,
   "id": "1ba34d6a-c346-497f-a479-35a8cb5fbbde",
   "metadata": {},
   "outputs": [],
   "source": [
    "snr_pivot = snr.pivot(index='churn_reason', columns='senior_citizen', values='Yes')\n",
    "\n",
    "snr_pivot = snr_pivot.reset_index().rename_axis(None, axis=1)\n",
    "snr_pivot.columns = ['churn_reason', 'not_senior_citizen', 'is_senior_citizen']\n",
    "snr_pivot.index +=1\n",
    "snr_pivot"
   ]
  },
  {
   "cell_type": "code",
   "execution_count": null,
   "id": "4090adc8-36c5-4a64-9db4-d1e5a3af8b75",
   "metadata": {},
   "outputs": [],
   "source": [
    "\n",
    "# Plot\n",
    "fig = px.bar(\n",
    "    snr_pivot.sort_values('is_senior_citizen',ascending=False).head(),\n",
    "    x='churn_reason',\n",
    "    y='is_senior_citizen',\n",
    "    title='Churn reason count of Senior Citizen Status',\n",
    "    labels={'count': 'count', 'senior_citizen': 'senior_citizen'},\n",
    "    text='is_senior_citizen'\n",
    ")\n",
    "\n",
    "fig.update_traces( textposition='outside')\n",
    "fig.update_layout(\n",
    "    height=900,\n",
    "    width=600,\n",
    "    yaxis_title='Number of Churned Customers',\n",
    "    xaxis_title='Senior Citizen Status',\n",
    "    xaxis_tickangle=270\n",
    ")\n",
    "\n",
    "fig.show()"
   ]
  },
  {
   "cell_type": "markdown",
   "id": "7f88cd46-40e4-49a4-a7d0-c8aaf9584b07",
   "metadata": {},
   "source": [
    "#### Our older customers (senior citizens) churned mostly because of our competitors and our attitude (both of the support person and the service provider). "
   ]
  },
  {
   "cell_type": "markdown",
   "id": "1ca3c08c-98b2-4479-9416-a17fc4a5fef1",
   "metadata": {},
   "source": [
    "           ."
   ]
  },
  {
   "cell_type": "code",
   "execution_count": null,
   "id": "322bf97f-c0fa-4901-b688-0640f33b1e23",
   "metadata": {},
   "outputs": [],
   "source": [
    "# Plot\n",
    "fig = px.bar(\n",
    "    snr_pivot.sort_values('not_senior_citizen',ascending=False).head(),\n",
    "    x='churn_reason',\n",
    "    y='not_senior_citizen',\n",
    "    title='Churn Count by Not Senior Citizen Status',\n",
    "    labels={'count': 'count', 'senior_citizen': 'senior_citizen'},\n",
    "    text='not_senior_citizen'\n",
    ")\n",
    "\n",
    "fig.update_traces( textposition='outside')\n",
    "fig.update_layout(\n",
    "    height=900,\n",
    "    width=600,\n",
    "    yaxis_title='Number of Churned Customers',\n",
    "    xaxis_title='Churn Reason',\n",
    "    xaxis_tickangle=270\n",
    ")\n",
    "\n",
    "fig.show()"
   ]
  },
  {
   "cell_type": "markdown",
   "id": "84c24fe0-a512-42b1-b02d-4f6a6f05e127",
   "metadata": {},
   "source": [
    " #### Most of the younger customers (not senior citizens) churned because of our competitors offering and the attitude of our support person"
   ]
  },
  {
   "cell_type": "markdown",
   "id": "7400cdff-912b-49d5-8cd3-70320e3ad113",
   "metadata": {},
   "source": [
    "        ."
   ]
  },
  {
   "cell_type": "markdown",
   "id": "54fcc8e7-a985-4511-bd5e-17f5c4045c13",
   "metadata": {},
   "source": [
    "## Churn by Partner vs No Partner"
   ]
  },
  {
   "cell_type": "code",
   "execution_count": null,
   "id": "66a9a113-3330-4417-8a82-e165bf880164",
   "metadata": {},
   "outputs": [],
   "source": [
    "partner_churn = churn_data[churn_data['churn_label']== 'Yes' ].groupby(['partner','churn_label']).size().unstack(fill_value=0).reset_index().rename_axis(None, axis=1)\n",
    "\n",
    "partner_churn.index +=1\n",
    "partner_churn.columns = ['partner', 'churned']\n",
    "partner_churn"
   ]
  },
  {
   "cell_type": "code",
   "execution_count": null,
   "id": "335edc7d-7dbc-44cc-b3c4-34e81e8d9eeb",
   "metadata": {},
   "outputs": [],
   "source": [
    "#ploting\n",
    "fig, ax = plt.subplots()\n",
    "\n",
    "ax.pie(x=partner_churn['churned'],\n",
    "       startangle=90,\n",
    "       labels=[\"Not_Partners\",\"Partners\"],\n",
    "       autopct=\"%.0f.%%\",\n",
    "       explode=(0, 0),\n",
    "       pctdistance=.85\n",
    "      )\n",
    "\n",
    "hole = plt.Circle((0,0), 0.60, fc='white')\n",
    "fig = plt.gcf()\n",
    "\n",
    "# Adding Circle in Pie Chart\n",
    "fig.gca().add_artist(hole)\n",
    "\n",
    "ax.set_title(\"Churn By PARTNER\")\n",
    "\n",
    "plt.show()"
   ]
  },
  {
   "cell_type": "markdown",
   "id": "d14e6515-76ad-432f-9965-a564046ac687",
   "metadata": {},
   "source": [
    "#### 64% of churn is by our non_partner while the other 36% is from our partner"
   ]
  },
  {
   "cell_type": "markdown",
   "id": "017c53f5-2f3f-4559-8f55-d27b94dea097",
   "metadata": {},
   "source": [
    "       ."
   ]
  },
  {
   "cell_type": "code",
   "execution_count": null,
   "id": "6021389b-b6f1-4c67-badf-255d13425158",
   "metadata": {
    "scrolled": true
   },
   "outputs": [],
   "source": [
    "partner_churn_reason = (churn_data[churn_data['churn_label']== 'Yes' ].groupby(['partner','churn_reason'])['churn_reason']\n",
    "                        .size()\n",
    "                        .unstack(fill_value = 0)\n",
    "                        .T\n",
    "                        .reset_index()\n",
    "                        .rename_axis(None,axis=1)\n",
    "                       )\n",
    "partner_churn_reason.index +=1\n",
    "partner_churn_reason"
   ]
  },
  {
   "cell_type": "code",
   "execution_count": null,
   "id": "c470a737-e55f-414e-a9f0-eb0135ea5a25",
   "metadata": {
    "scrolled": true
   },
   "outputs": [],
   "source": [
    "partner_churn_reason[['churn_reason','No']]"
   ]
  },
  {
   "cell_type": "code",
   "execution_count": null,
   "id": "0837570a-3630-468b-97f1-af46315bde33",
   "metadata": {},
   "outputs": [],
   "source": [
    "fig = px.bar(\n",
    "    partner_churn_reason[['churn_reason','No']].sort_values('No',ascending=False).head(),\n",
    "    x='churn_reason',\n",
    "    y='No',\n",
    "    title='Churn Reason Count (Not Partner Status)',\n",
    "    labels={\n",
    "    'No': 'Churn Count (No Partner)',\n",
    "    'churn_reason': 'Churn Reason'\n",
    "},\n",
    "    text='No'\n",
    ")\n",
    "\n",
    "fig.update_traces( textposition='outside')\n",
    "fig.update_layout(\n",
    "    height=900,\n",
    "    width=600,\n",
    "    yaxis_title='Number of Churned Customers',\n",
    "    xaxis_title='Churn Reason',\n",
    "    xaxis_tickangle=270\n",
    ")\n",
    "\n",
    "fig.show()"
   ]
  },
  {
   "cell_type": "markdown",
   "id": "3a7a34a8-a5f1-4f29-bdd2-0343d91dc086",
   "metadata": {},
   "source": [
    "#### Most of the churned customers who are not partners churned primarily because of both the attitude of our support personnel and our competitors."
   ]
  },
  {
   "cell_type": "markdown",
   "id": "6ad32dde-07dd-4185-938c-e79427b1b40a",
   "metadata": {},
   "source": [
    "       ."
   ]
  },
  {
   "cell_type": "code",
   "execution_count": null,
   "id": "ef5ad35f-6942-4262-b383-92275394c262",
   "metadata": {},
   "outputs": [],
   "source": [
    "fig = px.bar(\n",
    "    partner_churn_reason[['churn_reason','Yes']].sort_values('Yes',ascending=False).head(),\n",
    "    x='churn_reason',\n",
    "    y='Yes',\n",
    "    title='Churn Reason Count (Partner Status)',\n",
    "    labels={\n",
    "    'Yes': 'Churn Count (Partner)',\n",
    "    'churn_reason': 'Churn Reason'\n",
    "},\n",
    "    text='Yes'\n",
    ")\n",
    "\n",
    "fig.update_traces( textposition='outside')\n",
    "fig.update_layout(\n",
    "    height=900,\n",
    "    width=600,\n",
    "    yaxis_title='Number of Churned Customers',\n",
    "    xaxis_title='Churn Reason',\n",
    "    xaxis_tickangle=270\n",
    ")\n",
    "\n",
    "fig.show()"
   ]
  },
  {
   "cell_type": "markdown",
   "id": "fa68ee7b-195e-4d61-8396-216ff84827fc",
   "metadata": {},
   "source": [
    "#### Most of the churned customers who are partners churned primarily because of both the attitude of our support personnel/service provider and our competitors."
   ]
  },
  {
   "cell_type": "markdown",
   "id": "63f7e26b-bb8c-450b-8a4c-52f6962e9d5d",
   "metadata": {},
   "source": [
    "     ."
   ]
  },
  {
   "cell_type": "markdown",
   "id": "8ee66872-c08f-4c87-a331-a1dfa6f83a76",
   "metadata": {},
   "source": [
    "## Dependents vs. No dependents"
   ]
  },
  {
   "cell_type": "code",
   "execution_count": null,
   "id": "06d35848-b21c-4be1-9810-5f2bd2ee7d56",
   "metadata": {},
   "outputs": [],
   "source": [
    "# filtering by 'dependents', 'churn_reason', and 'churn_label'\n",
    "churn_data[['dependents', 'churn_reason','churn_label']]"
   ]
  },
  {
   "cell_type": "code",
   "execution_count": null,
   "id": "8a3f1881-9a5b-46ef-aa1b-d13cafb9adae",
   "metadata": {},
   "outputs": [],
   "source": [
    "# Creating a variable for dependents and there churn reason\n",
    "\n",
    "dependents_churn_reason = (churn_data[churn_data['churn_label']=='Yes'].groupby(['churn_reason', 'dependents'])\n",
    "                                                                       .size()\n",
    "                                                                       .unstack(fill_value = 0)\n",
    "                                                                       .reset_index()\n",
    "                                                                       .rename_axis(None, axis=1)\n",
    "                          )\n",
    "dependents_churn_reason.index += 1\n",
    "dependents_churn_reason.columns = ['churn_reason', 'not_dependent', 'dependent']\n",
    "dependents_churn_reason"
   ]
  },
  {
   "cell_type": "code",
   "execution_count": null,
   "id": "2a1d92a0-d07e-4801-876f-2ccaca47ad33",
   "metadata": {},
   "outputs": [],
   "source": [
    "(churn_data[churn_data['churn_label']=='Yes'].groupby(['dependents','churn_reason'])\n",
    "                                             .size()\n",
    "                                             .unstack(fill_value=0)\n",
    ")\n"
   ]
  },
  {
   "cell_type": "code",
   "execution_count": null,
   "id": "5f83ff90-fd93-4f5e-9024-d96c8af9f8fe",
   "metadata": {},
   "outputs": [],
   "source": [
    "dependents_churn = (churn_data[churn_data['churn_label']=='Yes'][['dependents']].value_counts()\n",
    "                                                                                .reset_index()\n",
    "                   )\n",
    "dependents_churn.columns = ['dependents', 'count'] \n",
    "dependents_churn.index +=1\n",
    "dependents_churn"
   ]
  },
  {
   "cell_type": "code",
   "execution_count": null,
   "id": "99972741-11b0-4d26-88e8-6a504b669e78",
   "metadata": {},
   "outputs": [],
   "source": [
    "# Create pie chart\n",
    "fig = px.pie(\n",
    "    dependents_churn,\n",
    "    names='dependents',\n",
    "    values= 'count',\n",
    "    color='dependents',\n",
    "    color_discrete_map={'Yes': 'lightcoral', 'No': 'skyblue'},\n",
    "    title='Overall Churn Distribution by dependents',\n",
    "    hole=0.5  # Optional: makes it a donut chart\n",
    ")\n",
    "\n",
    "fig.update_traces(textinfo='percent+label')  # Show % and label inside pie\n",
    "fig.update_layout(\n",
    "    width=800,\n",
    "    height=600,\n",
    "    showlegend=False\n",
    ")\n",
    "\n",
    "fig.show()"
   ]
  },
  {
   "cell_type": "code",
   "execution_count": null,
   "id": "0a02c5d6-ee37-42a4-8b40-02ff977fa25b",
   "metadata": {},
   "outputs": [],
   "source": [
    "(dependents_churn_reason.sort_values('not_dependent', ascending = False)\n",
    "                        .head()\n",
    "                        .plot(kind=\"bar\",\n",
    "                              x= 'churn_reason',\n",
    "                              y='not_dependent',\n",
    "                              legend = False,\n",
    "                              ylabel='Number of Not Dependents',\n",
    "                              title ='Churn reason count of Not dependents')\n",
    ")"
   ]
  },
  {
   "cell_type": "code",
   "execution_count": null,
   "id": "49c64c2f-c7fc-44ab-9c45-af08388d2045",
   "metadata": {},
   "outputs": [],
   "source": [
    "(dependents_churn_reason.sort_values('dependent', ascending = False)\n",
    "                        .head()\n",
    "                        .plot(kind=\"bar\", \n",
    "                              x= 'churn_reason', \n",
    "                              y='dependent', \n",
    "                              legend = False,\n",
    "                              ylabel='Number of Dependents', \n",
    "                              title ='Churn reason count of dependents'\n",
    "                             )\n",
    ")"
   ]
  },
  {
   "cell_type": "markdown",
   "id": "be9b9f28-9e4d-4592-a2dc-218044a15cea",
   "metadata": {},
   "source": [
    "## Churn by Services Used"
   ]
  },
  {
   "cell_type": "code",
   "execution_count": null,
   "id": "f2c15cc0-6f90-4446-a62b-6a62fb2b9d2d",
   "metadata": {},
   "outputs": [],
   "source": [
    "churn_data"
   ]
  },
  {
   "cell_type": "code",
   "execution_count": null,
   "id": "e1020d36-4860-42e7-88e9-3c5850de4a61",
   "metadata": {
    "scrolled": true
   },
   "outputs": [],
   "source": [
    "# assigning data to internet_churn\n",
    "\n",
    "internet_churn = (churn_data[churn_data['churn_label']== 'Yes'][['internet_service']]\n",
    "                  .value_counts()\n",
    "                  .reset_index()\n",
    "                 )\n",
    "\n",
    "internet_churn.index += 1 # increasing/starting the index by 1\n",
    "internet_churn"
   ]
  },
  {
   "cell_type": "code",
   "execution_count": null,
   "id": "4848df1d-05d4-4df6-94b2-52e3c1f480de",
   "metadata": {},
   "outputs": [],
   "source": [
    "# Plotting\n",
    "internet_churn.plot(kind='bar', x = 'internet_service', ylabel= 'Number of churn', legend=False, title = 'churn count for internet service')"
   ]
  },
  {
   "cell_type": "markdown",
   "id": "bf8f09b5-c043-44de-ab01-6d1a5adce1cf",
   "metadata": {},
   "source": [
    "The highest churned customer used the internet service called **Fiber optics**"
   ]
  },
  {
   "cell_type": "markdown",
   "id": "1b72e7d3-78a0-47c4-8d83-83b39d486fb2",
   "metadata": {},
   "source": [
    "   .\n"
   ]
  },
  {
   "cell_type": "code",
   "execution_count": null,
   "id": "f91648ea-9c97-42e0-af1e-9344ec9f55b6",
   "metadata": {},
   "outputs": [],
   "source": [
    "(churn_data[churn_data['churn_label']== 'Yes']\n",
    " .groupby(['churn_reason','internet_service'])\n",
    " .size()\n",
    " .unstack(fill_value=0)\n",
    " .reset_index()\n",
    " .rename_axis(None, axis=1)\n",
    " .head(20)\n",
    " .sort_values('DSL', ascending=False)\n",
    ")"
   ]
  },
  {
   "cell_type": "code",
   "execution_count": null,
   "id": "a459175c-22a7-4958-b89c-a5f8923e8837",
   "metadata": {},
   "outputs": [],
   "source": [
    "# Creating variable for fiber_optic_ineternet_churn_reason\n",
    "fiber_optic_ineternet_churn_reason = (churn_data[churn_data['churn_label']== 'Yes']\n",
    "                                      .groupby(['churn_reason','internet_service'])\n",
    "                                      .size()\n",
    "                                      .unstack(fill_value=0)\n",
    "                                      .reset_index()\n",
    "                                      .rename_axis(None, axis=1)\n",
    "                                      .head()\n",
    "                                      .sort_values('Fiber optic', ascending=False)\n",
    "                                     )\n",
    "\n",
    "# Plotting\n",
    "fiber_optic_ineternet_churn_reason.plot(kind='bar', x='churn_reason', y='Fiber optic', ylabel='Number of churn', legend=False, title='Churn Reason count by Fiber optic Internet Service')"
   ]
  },
  {
   "cell_type": "markdown",
   "id": "b02029d2-ccb2-4deb-be0c-af0568880b61",
   "metadata": {},
   "source": [
    "Just as before, the attitude of our support personnel and service providers, with our competitors, is making us lose customers who use our **fiber optic internet service**"
   ]
  },
  {
   "cell_type": "markdown",
   "id": "9bd13c8f-5c4a-495c-8670-1facb56de764",
   "metadata": {},
   "source": [
    "    ."
   ]
  },
  {
   "cell_type": "code",
   "execution_count": null,
   "id": "b080d017-8bf7-462a-a3c9-479cd7f85367",
   "metadata": {},
   "outputs": [],
   "source": [
    "# Creating variable for dsl_ineternet_churn_reason\n",
    "dsl_ineternet_churn_reason = (churn_data[churn_data['churn_label']== 'Yes']\n",
    "                              .groupby(['churn_reason','internet_service'])\n",
    "                              .size()\n",
    "                              .unstack(fill_value=0)\n",
    "                              .reset_index()\n",
    "                              .rename_axis(None, axis=1)\n",
    "                              .head()\n",
    "                              .sort_values('DSL', ascending=False)\n",
    "                             )\n",
    "\n",
    "# Plotting\n",
    "dsl_ineternet_churn_reason.plot(kind='bar', x='churn_reason', y='DSL', legend=False, ylabel='Number of churn', title='Churn Reason count by DSL Internet Service')"
   ]
  },
  {
   "cell_type": "markdown",
   "id": "4d501556-aa22-4b72-99c6-d89c08da4f03",
   "metadata": {},
   "source": [
    " The attitude of our support personnel and service providers, with our competitors, is making us lose customers who use our **DSL internet service**, like before"
   ]
  },
  {
   "cell_type": "markdown",
   "id": "b43a394f-82d1-464f-9716-6c30b8186802",
   "metadata": {},
   "source": [
    "      ."
   ]
  },
  {
   "cell_type": "code",
   "execution_count": null,
   "id": "f5959089-4c04-4c78-8187-dd43237e11f9",
   "metadata": {},
   "outputs": [],
   "source": [
    "# creating a variable no_ineternet_churn_reason\n",
    "no_ineternet_churn_reason = (churn_data[churn_data['churn_label']== 'Yes']\n",
    "                             .groupby(['churn_reason','internet_service'])\n",
    "                             .size().unstack(fill_value=0)\n",
    "                             .reset_index()\n",
    "                             .rename_axis(None, axis=1)\n",
    "                             .head()\n",
    "                             .sort_values('No', ascending=False)\n",
    "                            )\n",
    "\n",
    "#Plotting\n",
    "no_ineternet_churn_reason.plot(kind='bar',\n",
    "                               x='churn_reason',\n",
    "                               y='No',\n",
    "                               legend=False,\n",
    "                               ylabel='Number of churn',\n",
    "                               title='Churn Reason count by No Internet Service'\n",
    "                              )"
   ]
  },
  {
   "cell_type": "markdown",
   "id": "c56b5af6-df61-49ea-846c-bc1b64ea252e",
   "metadata": {},
   "source": [
    "## Tech Support"
   ]
  },
  {
   "cell_type": "code",
   "execution_count": null,
   "id": "1be1651a-e6f8-44e6-9a3e-8cd5818e8062",
   "metadata": {},
   "outputs": [],
   "source": [
    "# creating a variable for Tech Support\n",
    "tech_support = (churn_data[churn_data['churn_label']== 'Yes'].groupby(['tech_support'])\n",
    "                                                             .size()\n",
    "                                                             .reset_index()\n",
    "               )\n",
    "tech_support.columns = ['tech_support', 'count']\n",
    "tech_support.index += 1 #starting the index by 1 instead of 0\n",
    "\n",
    "#Plotting\n",
    "(tech_support.sort_values('count',ascending=False)\n",
    "    .plot(kind='bar',\n",
    "          x = 'tech_support',\n",
    "          y='count',\n",
    "          legend=False,\n",
    "          ylabel='Number of churn',\n",
    "          title ='Churn count for Tech support'\n",
    "         )\n",
    ")"
   ]
  },
  {
   "cell_type": "markdown",
   "id": "3dfcb4dd-ac8e-4e2f-810f-b1ced02caf2f",
   "metadata": {},
   "source": [
    "## Online Security"
   ]
  },
  {
   "cell_type": "code",
   "execution_count": null,
   "id": "36059713-ce58-4fb8-a01b-8a10161800fc",
   "metadata": {},
   "outputs": [],
   "source": [
    "# creating a variable for online security\n",
    "online_security = (churn_data[churn_data['churn_label']== 'Yes'].groupby(['online_security'])\n",
    "                                                                .size()\n",
    "                                                                .reset_index()\n",
    "                  )\n",
    "online_security.columns = ['online_security', 'count']\n",
    "online_security.index += 1 #starting the index by 1 instead of 0\n",
    "\n",
    "#Plotting\n",
    "(online_security.sort_values('count',ascending=False)\n",
    "                .plot(kind='bar',\n",
    "                      x = 'online_security',\n",
    "                      y='count',\n",
    "                      legend=False,\n",
    "                      ylabel='Number of churn',\n",
    "                      title='Churn count by Online Security'\n",
    "                     )\n",
    ")"
   ]
  },
  {
   "cell_type": "markdown",
   "id": "2a96f322-0e29-4224-b064-c4ae686399bf",
   "metadata": {},
   "source": [
    "## Payment Method"
   ]
  },
  {
   "cell_type": "code",
   "execution_count": null,
   "id": "a99ecd72-db64-44e8-8a4f-861dd3c13073",
   "metadata": {},
   "outputs": [],
   "source": [
    "payment_method_churn = churn_data[churn_data['churn_label']=='Yes'][['payment_method']].value_counts().reset_index()\n",
    "payment_method_churn.index += 1\n",
    "payment_method_churn ['percent_of_total'] = ((payment_method_churn['count'] / payment_method_churn['count'].sum())*100).round(2)\n",
    "payment_method_churn"
   ]
  },
  {
   "cell_type": "code",
   "execution_count": null,
   "id": "008e42db-edc1-48ba-a462-80bcf0e20057",
   "metadata": {},
   "outputs": [],
   "source": [
    "payment_method_churn"
   ]
  },
  {
   "cell_type": "code",
   "execution_count": null,
   "id": "640ebe56-b7fa-47de-9965-e92ef7687c07",
   "metadata": {},
   "outputs": [],
   "source": [
    "#plot\n",
    "plt.figure(figsize=(8,5))\n",
    "\n",
    "ax = sns.barplot(data= payment_method_churn, x='payment_method', y = 'percent_of_total', hue='payment_method', palette = 'deep', dodge=False)\n",
    "\n",
    "ax.set_xlabel('Payment Method')\n",
    "ax.set_ylabel('Percentage of churns')\n",
    "ax.set_title('Churn by Payment Method')\n",
    "\n",
    "# Rotate x-axis labels if they overlap\n",
    "plt.xticks(rotation=90, ha='right')\n",
    "\n",
    "plt.show()"
   ]
  },
  {
   "cell_type": "markdown",
   "id": "b97d16bd-e1af-468a-a42c-00258a223f3f",
   "metadata": {},
   "source": [
    "## Customer Life Time Value Churn"
   ]
  },
  {
   "cell_type": "code",
   "execution_count": null,
   "id": "6914deab-2857-4314-a24a-02d7de1e61fc",
   "metadata": {},
   "outputs": [],
   "source": [
    "# creating a new column called cltv_band to categorise cltv\n",
    "churn_data['cltv_band'] = pd.qcut(churn_data['cltv'], q=4, labels=['Low', 'Mid-Low', 'Mid-High', 'High'])"
   ]
  },
  {
   "cell_type": "code",
   "execution_count": null,
   "id": "118cc555-0da7-4cfe-b75e-adaca4ce7b22",
   "metadata": {
    "jp-MarkdownHeadingCollapsed": true
   },
   "outputs": [],
   "source": [
    "# creating lifetime churned data set\n",
    "cltv_churn = churn_data[churn_data['churn_label']=='Yes'][['cltv_band']].value_counts().reset_index()\n",
    "\n",
    "#This is to make the index start from 1\n",
    "cltv_churn.index +=1 \n",
    "\n",
    "#Visual representation of the cltv churn\n",
    "cltv_churn.plot(kind='bar', x='cltv_band',legend=False, ylabel='Number of churn', title='Customers Life time Value Churn')"
   ]
  },
  {
   "cell_type": "markdown",
   "id": "6f9d93ad-88c4-49be-8fcc-0dd7a6fa7802",
   "metadata": {},
   "source": [
    "The lower the customer's life time value, the more likely the customer will churn."
   ]
  },
  {
   "cell_type": "markdown",
   "id": "1625649e-ec87-4b79-a450-51c27cb5ae5f",
   "metadata": {},
   "source": [
    "      ."
   ]
  },
  {
   "cell_type": "markdown",
   "id": "b38af8d0-c436-4111-9d4e-0f329562adfb",
   "metadata": {},
   "source": []
  },
  {
   "cell_type": "markdown",
   "id": "8729de51-8175-4199-9446-cf66a82087fa",
   "metadata": {},
   "source": [
    "# CORRELATION Heatmap"
   ]
  },
  {
   "cell_type": "code",
   "execution_count": null,
   "id": "3009a82f-26de-4984-bc26-cf3621410596",
   "metadata": {},
   "outputs": [],
   "source": [
    "# Select only numeric columns\n",
    "numeric_cols = churn_data.select_dtypes(include=['float64', 'int64'])\n",
    "\n",
    "# Compute correlation matrix\n",
    "corr = numeric_cols.corr()\n",
    "\n",
    "# Plot heatmap\n",
    "plt.figure(figsize=(16, 12))\n",
    "sns.heatmap(corr, annot=True, cmap='coolwarm', linewidths=0.5)\n",
    "plt.title(\"Correlation Heatmap of Numeric Features\")\n",
    "plt.show()\n"
   ]
  },
  {
   "cell_type": "markdown",
   "id": "8e2f567c-bd9e-46ee-a400-034bd17ecc8f",
   "metadata": {},
   "source": [
    "### 🔎 Correlation Insights\n",
    "- **Latitude & Longitude**: Highly correlated (–0.88). These are identifiers, not useful for churn → can be dropped.  \n",
    "- **Tenure & Total Charges**: Strong correlation (0.83) – consistent with expectations (longer tenure → higher charges).  \n",
    "- **Monthly & Total Charges**: Correlated (0.65). We may keep one of them to avoid redundancy.  \n",
    "- **Churn Value & Churn Score**: Highly correlated (0.66). These variables directly describe churn risk → should be excluded from predictive models to avoid leakage.  \n",
    "- **CLTV**: Some positive correlation with total charges but not very strong. Could be useful for segmentation.  \n"
   ]
  },
  {
   "cell_type": "markdown",
   "id": "2552705f-f51a-4c05-88b0-0d6f1bcb36bd",
   "metadata": {},
   "source": [
    "    ."
   ]
  },
  {
   "cell_type": "code",
   "execution_count": null,
   "id": "e4135eb9-b5c0-40f9-9271-75884cd31f9d",
   "metadata": {},
   "outputs": [],
   "source": [
    "import warnings  # Import the warnings module\n",
    "warnings.filterwarnings('ignore') # Hiding warning\n",
    "\n",
    "# Create tenure bins\n",
    "bins = [0, 12, 24, 36, 48, 60, 72]\n",
    "labels = ['0-12', '13-24', '25-36', '37-48', '49-60', '61-72']\n",
    "churn_data['tenure_bin'] = pd.cut(churn_data['tenure_months'], bins=bins, labels=labels, right=True)\n",
    "\n",
    "# Churn rate by tenure bin\n",
    "tenure_churn = churn_data.groupby('tenure_bin')['churn_label'].value_counts(normalize=True).unstack().fillna(0) * 100\n",
    "\n",
    "# Plot\n",
    "tenure_churn.plot(kind='bar', stacked=True, figsize=(10, 6), color=['skyblue', 'salmon'])\n",
    "plt.title(\"Churn Rate by Tenure Segments\")\n",
    "plt.ylabel(\"Percentage\")\n",
    "plt.xlabel(\"Tenure Range (Months)\")\n",
    "plt.xticks(rotation=0)\n",
    "plt.legend(title='Churn Label',bbox_to_anchor=(1.17,0.9),loc='upper right')\n",
    "plt.show()\n"
   ]
  },
  {
   "cell_type": "code",
   "execution_count": null,
   "id": "3d129133-f9a4-4f99-9e36-23541cecf6a3",
   "metadata": {},
   "outputs": [],
   "source": [
    "from sklearn.tree import DecisionTreeClassifier\n",
    "from sklearn.preprocessing import LabelEncoder\n",
    "from sklearn.model_selection import train_test_split\n",
    "importances_df = pd.DataFrame()\n",
    "import warnings  # Import the warnings module\n",
    "warnings.filterwarnings('ignore') # Hiding warnings\n",
    "\n",
    "# Make a copy\n",
    "data_encoded = churn_data.copy()\n",
    "\n",
    "# Drop non-numeric derived columns like tenure_bin if it's present\n",
    "if 'tenure_bin' in data_encoded.columns:\n",
    "    data_encoded = data_encoded.drop('tenure_bin', axis=1)\n",
    "\n",
    "# Encode all categorical (object) columns\n",
    "for col in data_encoded.select_dtypes(include=['object', 'category']).columns:\n",
    "    data_encoded[col] = LabelEncoder().fit_transform(data_encoded[col].astype(str))\n",
    "\n",
    "# Features and target\n",
    "# Drop target leakage columns\n",
    "leakage_columns = ['churn_reason', 'churn_score', 'churn_value', 'customerid']\n",
    "X = data_encoded.drop(['churn_label'] + leakage_columns, axis=1)\n",
    "y = data_encoded['churn_label']\n",
    "\n",
    "# Train-test split\n",
    "X_train, X_test, y_train, y_test = train_test_split(X, y, test_size=0.3, random_state=42)\n",
    "\n",
    "# Train Decision Tree with max_depth=4 to avoid overfitting and improve interpretability\n",
    "tree = DecisionTreeClassifier(max_depth=4, random_state=42)\n",
    "tree.fit(X_train, y_train)\n",
    "\n",
    "# Feature importances\n",
    "importances = pd.Series(tree.feature_importances_, index=X.columns).sort_values(ascending=False)\n",
    "\n",
    "# Plot\n",
    "plt.figure(figsize=(10, 6))\n",
    "sns.barplot(x=importances[:10], y=importances.index[:10], palette='viridis')\n",
    "plt.title(\"Top 10 Feature Importances (Decision Tree)\")\n",
    "plt.xlabel(\"Importance Score\")\n",
    "plt.ylabel(\"Feature\")\n",
    "plt.show()\n"
   ]
  },
  {
   "cell_type": "code",
   "execution_count": null,
   "id": "aa715f22-1e26-4f7f-afb9-7467540ac8e7",
   "metadata": {},
   "outputs": [],
   "source": [
    "from sklearn.tree import plot_tree\n",
    "plt.figure(figsize=(100,50))\n",
    "plot_tree(tree, feature_names=X.columns, class_names=['No Churn', 'Churn'], filled=True)\n",
    "plt.show()\n"
   ]
  },
  {
   "cell_type": "code",
   "execution_count": null,
   "id": "6371d7c9-1fa9-4e52-b634-fc5771ef8f0b",
   "metadata": {},
   "outputs": [],
   "source": [
    "df = pd.DataFrame({'color': ['red', 'blue', 'green', 'blue']})\n",
    "encoded = LabelEncoder().fit_transform(df['color'].astype(str))\n",
    "# encoded == array([2, 0, 1, 0])  # mapping might be: blue→0, green→1, red→2"
   ]
  },
  {
   "cell_type": "code",
   "execution_count": null,
   "id": "1e846310-fc3c-4a95-a83c-2058f4d100fd",
   "metadata": {},
   "outputs": [],
   "source": [
    "import pandas as pd\n",
    "import matplotlib.pyplot as plt\n",
    "import seaborn as sns\n",
    "from sklearn.model_selection import train_test_split\n",
    "from sklearn.tree import DecisionTreeClassifier\n",
    "from sklearn.preprocessing import OrdinalEncoder\n",
    "from sklearn.pipeline import make_pipeline\n",
    "from sklearn.compose import ColumnTransformer\n",
    "from sklearn.metrics import (\n",
    "    accuracy_score,\n",
    "    precision_score,\n",
    "    recall_score,\n",
    "    f1_score,\n",
    "    classification_report,\n",
    "    confusion_matrix,\n",
    "    ConfusionMatrixDisplay\n",
    ")\n",
    "\n",
    "def train_evaluate_tree(\n",
    "    df,\n",
    "    target_column=\"churn_label\",\n",
    "    leakage_columns=None,\n",
    "    test_size=0.3,\n",
    "    random_state=42,\n",
    "    max_depth=4\n",
    "):\n",
    "    \"\"\"\n",
    "    Train and evaluate a DecisionTreeClassifier with ordinal encoding of categoricals.\n",
    "\n",
    "    Returns:\n",
    "        pipeline: trained model pipeline\n",
    "        metrics: dict with accuracy, precision, recall, f1, and classification report\n",
    "        importances: pd.Series of feature importances (sorted descending)\n",
    "    \"\"\"\n",
    "\n",
    "    if leakage_columns is None:\n",
    "        leakage_columns = [\"churn_reason\", \"churn_score\", \"churn_value\", \"customerid\"]\n",
    "\n",
    "    # Copy data\n",
    "    data_encoded = df.copy()\n",
    "\n",
    "    # Drop derived columns if present\n",
    "    if \"tenure_bin\" in data_encoded.columns:\n",
    "        data_encoded = data_encoded.drop(\"tenure_bin\", axis=1)\n",
    "\n",
    "    # Features and target\n",
    "    X = data_encoded.drop([target_column] + leakage_columns, axis=1, errors=\"ignore\")\n",
    "    y = data_encoded[target_column]\n",
    "\n",
    "    # Detect categorical columns\n",
    "    categorical_cols = X.select_dtypes(include=[\"object\", \"category\"]).columns.tolist()\n",
    "\n",
    "    # Preprocessing + pipeline\n",
    "    if categorical_cols:\n",
    "        preprocessor = ColumnTransformer(\n",
    "            transformers=[\n",
    "                (\"ord\", OrdinalEncoder(handle_unknown=\"use_encoded_value\", unknown_value=-1), categorical_cols)\n",
    "            ],\n",
    "            remainder=\"passthrough\"\n",
    "        )\n",
    "        pipeline = make_pipeline(\n",
    "            preprocessor,\n",
    "            DecisionTreeClassifier(max_depth=max_depth, random_state=random_state)\n",
    "        )\n",
    "    else:\n",
    "        pipeline = make_pipeline(\n",
    "            DecisionTreeClassifier(max_depth=max_depth, random_state=random_state)\n",
    "        )\n",
    "\n",
    "    # Split\n",
    "    X_train, X_test, y_train, y_test = train_test_split(\n",
    "        X, y, test_size=test_size, random_state=random_state\n",
    "    )\n",
    "\n",
    "    # Fit\n",
    "    pipeline.fit(X_train, y_train)\n",
    "\n",
    "    # Predictions\n",
    "    y_pred = pipeline.predict(X_test)\n",
    "\n",
    "    # Metrics\n",
    "    metrics = {\n",
    "        \"accuracy\": accuracy_score(y_test, y_pred),\n",
    "        \"precision\": precision_score(y_test, y_pred, average=\"weighted\", zero_division=0),\n",
    "        \"recall\": recall_score(y_test, y_pred, average=\"weighted\", zero_division=0),\n",
    "        \"f1_score\": f1_score(y_test, y_pred, average=\"weighted\", zero_division=0),\n",
    "        \"classification_report\": classification_report(y_test, y_pred, zero_division=0)\n",
    "    }\n",
    "\n",
    "    # --- Feature Importances ---\n",
    "    dt = pipeline.named_steps[\"decisiontreeclassifier\"]\n",
    "    if categorical_cols:\n",
    "        encoded_cat_names = categorical_cols\n",
    "        numeric_cols = [col for col in X.columns if col not in categorical_cols]\n",
    "        feature_names = encoded_cat_names + numeric_cols\n",
    "    else:\n",
    "        feature_names = X.columns\n",
    "\n",
    "    importances = pd.Series(dt.feature_importances_, index=feature_names).sort_values(ascending=False)\n",
    "\n",
    "    # Plot feature importances\n",
    "    top_importances = importances.head(10)\n",
    "    plt.figure(figsize=(10, 6))\n",
    "    ax = sns.barplot(x=top_importances.values, y=top_importances.index, palette=\"viridis\")\n",
    "    ax.set_title(\"Top 10 Feature Importances (Decision Tree)\")\n",
    "    ax.set_xlabel(\"Importance Score\")\n",
    "    ax.set_ylabel(\"Feature\")\n",
    "    for bar in ax.patches:\n",
    "        width = bar.get_width()\n",
    "        ax.annotate(f\"{width:.3f}\",\n",
    "                    xy=(width, bar.get_y() + bar.get_height()/2),\n",
    "                    xytext=(5, 0), textcoords=\"offset points\",\n",
    "                    ha=\"left\", va=\"center\", fontsize=9)\n",
    "    plt.tight_layout()\n",
    "    plt.show()\n",
    "\n",
    "    # --- Confusion Matrix ---\n",
    "    cm = confusion_matrix(y_test, y_pred, labels=pipeline.classes_)\n",
    "    disp = ConfusionMatrixDisplay(confusion_matrix=cm, display_labels=pipeline.classes_)\n",
    "    plt.figure(figsize=(6, 5))\n",
    "    disp.plot(ax=plt.gca(), cmap=\"Blues\", colorbar=False)\n",
    "    plt.title(\"Confusion Matrix\")\n",
    "    plt.tight_layout()\n",
    "    plt.show()\n",
    "\n",
    "    # Print summary\n",
    "    print(\"📊 Model Evaluation Metrics\")\n",
    "    for k, v in metrics.items():\n",
    "        if k != \"classification_report\":\n",
    "            print(f\"{k.capitalize()}: {v:.4f}\")\n",
    "    print(\"\\nClassification Report:\\n\", metrics[\"classification_report\"])\n",
    "\n",
    "    return pipeline, metrics, importances\n"
   ]
  },
  {
   "cell_type": "code",
   "execution_count": null,
   "id": "49a82c05-2868-4762-9da0-42c929cd5869",
   "metadata": {},
   "outputs": [],
   "source": [
    "train_evaluate_tree(churn_data)"
   ]
  },
  {
   "cell_type": "markdown",
   "id": "de54d578-c620-473b-8e35-941f148dc968",
   "metadata": {},
   "source": [
    "        ."
   ]
  },
  {
   "cell_type": "markdown",
   "id": "696685af-4bd7-448f-a9bf-924dba049fd5",
   "metadata": {},
   "source": [
    "## Conclusion & Next Steps\n",
    "- Model achieved 77% accuracy with Decision Tree.\n",
    "- Contract type and tenure are primary churn drivers.\n",
    "- Future work: test Random Forest and XGBoost for potentially higher accuracy; integrate results into a Power BI dashboard.\n"
   ]
  },
  {
   "cell_type": "markdown",
   "id": "00fa7a9d-e9cc-4806-81e2-ad7eb29665bb",
   "metadata": {},
   "source": [
    "# 📈 Interpretation & Actionable Insights\r\n",
    "\r\n",
    "The following recommendations are based on the preceding data visualizations and analysis.\r\n"
   ]
  },
  {
   "cell_type": "markdown",
   "id": "eb8782b7-5988-4a5a-bb75-cb8782cf6a26",
   "metadata": {},
   "source": [
    "## Recommendations: Who Churns, Why, and What to Do\r\n",
    "# 📌 Final Summary and Business Recommendations\r\n",
    "\r\n",
    "### 🧠 Who Churns the Most?\r\n",
    "- Customers on **Month-to-Month** contracts\r\n",
    "- Customers with **low tenure**\r\n",
    "- Those with **no Tech Support**, **no Online Security**, **no Backup**\r\n",
    "- Users who pay via **Electronic Check**\r\n",
    "- **Fiber Optic** users churn more than others\r\n",
    "\r\n",
    "### 🔍 Why Do They Churn?\r\n",
    "- **No contract commitment** leads to easy exits\r\n",
    "- **Lack of service add-ons** reduces engagement\r\n",
    "- **Low tenure** means low loyalty\r\n",
    "- Electronic Check users might be less digitally savvy or engaged\r\n",
    "\r\n",
    "### 💡 What Can Be Done?\r\n",
    "- Offer **discounts** for switching to 1- or 2-year contracts\r\n",
    "- Provide **onboarding and welcome offers** for new users\r\n",
    "- Encourage bundling of online services to **increase retention**\r\n",
    "- Target **at-risk customers** with churn models and retention campaigns\r\n",
    "tention strategies\r\n"
   ]
  },
  {
   "cell_type": "code",
   "execution_count": null,
   "id": "444d74da-7778-448f-a5ca-9aa1a61d9bfb",
   "metadata": {},
   "outputs": [],
   "source": []
  }
 ],
 "metadata": {
  "kernelspec": {
   "display_name": "Python 3 (ipykernel)",
   "language": "python",
   "name": "python3"
  },
  "language_info": {
   "codemirror_mode": {
    "name": "ipython",
    "version": 3
   },
   "file_extension": ".py",
   "mimetype": "text/x-python",
   "name": "python",
   "nbconvert_exporter": "python",
   "pygments_lexer": "ipython3",
   "version": "3.11.7"
  }
 },
 "nbformat": 4,
 "nbformat_minor": 5
}
